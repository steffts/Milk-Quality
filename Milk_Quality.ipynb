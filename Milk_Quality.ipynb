{
 "cells": [
  {
   "cell_type": "markdown",
   "id": "be17490e",
   "metadata": {},
   "source": [
    "#  Анализ на качеството на млякото\n",
    "\n",
    "## Стефани Циркалова, 2201321083, Софтуерно инженерство, 2 курс\n",
    "\n",
    "### Източник: https://www.kaggle.com/datasets/cpluzshrijayan/milkquality"
   ]
  },
  {
   "cell_type": "markdown",
   "id": "48c3b99d",
   "metadata": {},
   "source": [
    "## Въведение\n",
    "В този проект ще разгледаме данни за качеството на прясното мляко и ще изведем съответните изводи. Ще бъдат разгледани аспекти като състав, микробиологична чистота, следене на хранителни вещества и химичен състав. Като резултат от този анализ, ще се получи по-добро разбиране на тенденциите в качеството на млякото. Това е от съществено значение не само за бизнеса, но и за крайните потребители, които зависят от високото качество на млякото за поддържане на здравословен начин на живот."
   ]
  },
  {
   "cell_type": "markdown",
   "id": "1a0ff4d4",
   "metadata": {},
   "source": [
    "## Съдържание:\n",
    "Този набор от данни съдържа следните показатели:\n",
    "   - pH нива: определя PH(баланс на киселинност и алкалност) стойността на млякото, която варира от 3 до 9,5 макс.\n",
    "   - Температура: определя температурата на млякото, която варира от 34'C до 90'C.\n",
    "   - Вкус: определя вкуса на млякото, което е категорична информация 0 (лошо) или 1 (добро) макс.\n",
    "   - Мирис: определя миризмата на млякото, която е категорична информация 0 (лошо) или 1 (добро) макс.\n",
    "   - Мазнини: определя мазнините в млякото, които са категорични данни 0 (Ниско) или 1 (Високо) макс.\n",
    "   - Мътност: определя мътността на млякото, която е категорична информация 0 (ниска) или 1 (висока) макс.\n",
    "   - Цвят: определя цвета на млякото, който варира от 240 до 255.\n",
    "   - Оценка: определя степента на млякото, която е категорична информация, където Ниска (Лоша), Средна (Умерена), Висока (Добра)"
   ]
  },
  {
   "cell_type": "code",
   "execution_count": 1,
   "id": "14d660d5",
   "metadata": {},
   "outputs": [],
   "source": [
    "#Първо импортираме необходимите библиотеки\n",
    "import pandas as pd\n",
    "import numpy as np\n",
    "import matplotlib.pyplot as plt\n",
    "\n",
    "from sklearn.preprocessing import StandardScaler\n",
    "from sklearn.linear_model import LogisticRegression\n",
    "\n",
    "from sklearn.model_selection import train_test_split\n",
    "from sklearn.metrics import accuracy_score,confusion_matrix,classification_report, ConfusionMatrixDisplay,mean_squared_error, r2_score"
   ]
  },
  {
   "cell_type": "markdown",
   "id": "ced964a7",
   "metadata": {},
   "source": [
    "## Получаване на данни\n",
    "### Прочитаме файла milknew.csv чрез pandas и го задаваме в рамка от данни, наречена милк_quality."
   ]
  },
  {
   "cell_type": "code",
   "execution_count": 2,
   "id": "fadd9f20",
   "metadata": {
    "scrolled": false
   },
   "outputs": [],
   "source": [
    "milk_quality = pd.read_csv('milknew.csv')"
   ]
  },
  {
   "cell_type": "markdown",
   "id": "729d30d4",
   "metadata": {},
   "source": [
    "## Проверяваме информацията за milk_quality"
   ]
  },
  {
   "cell_type": "code",
   "execution_count": 3,
   "id": "99f978cb",
   "metadata": {},
   "outputs": [
    {
     "name": "stdout",
     "output_type": "stream",
     "text": [
      "<class 'pandas.core.frame.DataFrame'>\n",
      "RangeIndex: 1059 entries, 0 to 1058\n",
      "Data columns (total 8 columns):\n",
      " #   Column      Non-Null Count  Dtype  \n",
      "---  ------      --------------  -----  \n",
      " 0   pH          1059 non-null   float64\n",
      " 1   Temprature  1059 non-null   int64  \n",
      " 2   Taste       1059 non-null   int64  \n",
      " 3   Odor        1059 non-null   int64  \n",
      " 4   Fat         1059 non-null   int64  \n",
      " 5   Turbidity   1059 non-null   int64  \n",
      " 6   Colour      1059 non-null   int64  \n",
      " 7   Grade       1059 non-null   object \n",
      "dtypes: float64(1), int64(6), object(1)\n",
      "memory usage: 66.3+ KB\n"
     ]
    }
   ],
   "source": [
    "milk_quality.info()"
   ]
  },
  {
   "cell_type": "markdown",
   "id": "7ed39fa2",
   "metadata": {},
   "source": [
    "### Можем да видим, че нямаме нулеви стойности. Интересно е, че характеристиките Температура, Вкус, Мирис, Мазнини, Мътност и Цвят в набора от данни са цели числа, така че не е нужно да ги трансформираме."
   ]
  },
  {
   "cell_type": "markdown",
   "id": "715b0bd5",
   "metadata": {},
   "source": [
    "## Проверяваме първите пет реда "
   ]
  },
  {
   "cell_type": "code",
   "execution_count": 4,
   "id": "90856e43",
   "metadata": {},
   "outputs": [
    {
     "data": {
      "text/html": [
       "<div>\n",
       "<style scoped>\n",
       "    .dataframe tbody tr th:only-of-type {\n",
       "        vertical-align: middle;\n",
       "    }\n",
       "\n",
       "    .dataframe tbody tr th {\n",
       "        vertical-align: top;\n",
       "    }\n",
       "\n",
       "    .dataframe thead th {\n",
       "        text-align: right;\n",
       "    }\n",
       "</style>\n",
       "<table border=\"1\" class=\"dataframe\">\n",
       "  <thead>\n",
       "    <tr style=\"text-align: right;\">\n",
       "      <th></th>\n",
       "      <th>pH</th>\n",
       "      <th>Temprature</th>\n",
       "      <th>Taste</th>\n",
       "      <th>Odor</th>\n",
       "      <th>Fat</th>\n",
       "      <th>Turbidity</th>\n",
       "      <th>Colour</th>\n",
       "      <th>Grade</th>\n",
       "    </tr>\n",
       "  </thead>\n",
       "  <tbody>\n",
       "    <tr>\n",
       "      <th>0</th>\n",
       "      <td>6.6</td>\n",
       "      <td>35</td>\n",
       "      <td>1</td>\n",
       "      <td>0</td>\n",
       "      <td>1</td>\n",
       "      <td>0</td>\n",
       "      <td>254</td>\n",
       "      <td>high</td>\n",
       "    </tr>\n",
       "    <tr>\n",
       "      <th>1</th>\n",
       "      <td>6.6</td>\n",
       "      <td>36</td>\n",
       "      <td>0</td>\n",
       "      <td>1</td>\n",
       "      <td>0</td>\n",
       "      <td>1</td>\n",
       "      <td>253</td>\n",
       "      <td>high</td>\n",
       "    </tr>\n",
       "    <tr>\n",
       "      <th>2</th>\n",
       "      <td>8.5</td>\n",
       "      <td>70</td>\n",
       "      <td>1</td>\n",
       "      <td>1</td>\n",
       "      <td>1</td>\n",
       "      <td>1</td>\n",
       "      <td>246</td>\n",
       "      <td>low</td>\n",
       "    </tr>\n",
       "    <tr>\n",
       "      <th>3</th>\n",
       "      <td>9.5</td>\n",
       "      <td>34</td>\n",
       "      <td>1</td>\n",
       "      <td>1</td>\n",
       "      <td>0</td>\n",
       "      <td>1</td>\n",
       "      <td>255</td>\n",
       "      <td>low</td>\n",
       "    </tr>\n",
       "    <tr>\n",
       "      <th>4</th>\n",
       "      <td>6.6</td>\n",
       "      <td>37</td>\n",
       "      <td>0</td>\n",
       "      <td>0</td>\n",
       "      <td>0</td>\n",
       "      <td>0</td>\n",
       "      <td>255</td>\n",
       "      <td>medium</td>\n",
       "    </tr>\n",
       "  </tbody>\n",
       "</table>\n",
       "</div>"
      ],
      "text/plain": [
       "    pH  Temprature  Taste  Odor  Fat   Turbidity  Colour   Grade\n",
       "0  6.6          35      1     0     1          0     254    high\n",
       "1  6.6          36      0     1     0          1     253    high\n",
       "2  8.5          70      1     1     1          1     246     low\n",
       "3  9.5          34      1     1     0          1     255     low\n",
       "4  6.6          37      0     0     0          0     255  medium"
      ]
     },
     "execution_count": 4,
     "metadata": {},
     "output_type": "execute_result"
    }
   ],
   "source": [
    "milk_quality.head()"
   ]
  },
  {
   "cell_type": "markdown",
   "id": "5b806f5d",
   "metadata": {},
   "source": [
    "## Използваме метода describe(), за да разкрием описателната статистика за набора от данни. \n",
    "\n",
    "### Това ще ни даде съществена статистическа информация за цифровите колони, представяйки подробности като средни стойности, стандартни отклонения и минимални и максимални стойности.\n"
   ]
  },
  {
   "cell_type": "code",
   "execution_count": 5,
   "id": "bcbd993a",
   "metadata": {},
   "outputs": [
    {
     "data": {
      "text/html": [
       "<div>\n",
       "<style scoped>\n",
       "    .dataframe tbody tr th:only-of-type {\n",
       "        vertical-align: middle;\n",
       "    }\n",
       "\n",
       "    .dataframe tbody tr th {\n",
       "        vertical-align: top;\n",
       "    }\n",
       "\n",
       "    .dataframe thead th {\n",
       "        text-align: right;\n",
       "    }\n",
       "</style>\n",
       "<table border=\"1\" class=\"dataframe\">\n",
       "  <thead>\n",
       "    <tr style=\"text-align: right;\">\n",
       "      <th></th>\n",
       "      <th>pH</th>\n",
       "      <th>Temprature</th>\n",
       "      <th>Taste</th>\n",
       "      <th>Odor</th>\n",
       "      <th>Fat</th>\n",
       "      <th>Turbidity</th>\n",
       "      <th>Colour</th>\n",
       "    </tr>\n",
       "  </thead>\n",
       "  <tbody>\n",
       "    <tr>\n",
       "      <th>count</th>\n",
       "      <td>1059.000000</td>\n",
       "      <td>1059.000000</td>\n",
       "      <td>1059.000000</td>\n",
       "      <td>1059.000000</td>\n",
       "      <td>1059.000000</td>\n",
       "      <td>1059.000000</td>\n",
       "      <td>1059.000000</td>\n",
       "    </tr>\n",
       "    <tr>\n",
       "      <th>mean</th>\n",
       "      <td>6.630123</td>\n",
       "      <td>44.226629</td>\n",
       "      <td>0.546742</td>\n",
       "      <td>0.432483</td>\n",
       "      <td>0.671388</td>\n",
       "      <td>0.491029</td>\n",
       "      <td>251.840415</td>\n",
       "    </tr>\n",
       "    <tr>\n",
       "      <th>std</th>\n",
       "      <td>1.399679</td>\n",
       "      <td>10.098364</td>\n",
       "      <td>0.498046</td>\n",
       "      <td>0.495655</td>\n",
       "      <td>0.469930</td>\n",
       "      <td>0.500156</td>\n",
       "      <td>4.307424</td>\n",
       "    </tr>\n",
       "    <tr>\n",
       "      <th>min</th>\n",
       "      <td>3.000000</td>\n",
       "      <td>34.000000</td>\n",
       "      <td>0.000000</td>\n",
       "      <td>0.000000</td>\n",
       "      <td>0.000000</td>\n",
       "      <td>0.000000</td>\n",
       "      <td>240.000000</td>\n",
       "    </tr>\n",
       "    <tr>\n",
       "      <th>25%</th>\n",
       "      <td>6.500000</td>\n",
       "      <td>38.000000</td>\n",
       "      <td>0.000000</td>\n",
       "      <td>0.000000</td>\n",
       "      <td>0.000000</td>\n",
       "      <td>0.000000</td>\n",
       "      <td>250.000000</td>\n",
       "    </tr>\n",
       "    <tr>\n",
       "      <th>50%</th>\n",
       "      <td>6.700000</td>\n",
       "      <td>41.000000</td>\n",
       "      <td>1.000000</td>\n",
       "      <td>0.000000</td>\n",
       "      <td>1.000000</td>\n",
       "      <td>0.000000</td>\n",
       "      <td>255.000000</td>\n",
       "    </tr>\n",
       "    <tr>\n",
       "      <th>75%</th>\n",
       "      <td>6.800000</td>\n",
       "      <td>45.000000</td>\n",
       "      <td>1.000000</td>\n",
       "      <td>1.000000</td>\n",
       "      <td>1.000000</td>\n",
       "      <td>1.000000</td>\n",
       "      <td>255.000000</td>\n",
       "    </tr>\n",
       "    <tr>\n",
       "      <th>max</th>\n",
       "      <td>9.500000</td>\n",
       "      <td>90.000000</td>\n",
       "      <td>1.000000</td>\n",
       "      <td>1.000000</td>\n",
       "      <td>1.000000</td>\n",
       "      <td>1.000000</td>\n",
       "      <td>255.000000</td>\n",
       "    </tr>\n",
       "  </tbody>\n",
       "</table>\n",
       "</div>"
      ],
      "text/plain": [
       "                pH   Temprature        Taste         Odor         Fat   \\\n",
       "count  1059.000000  1059.000000  1059.000000  1059.000000  1059.000000   \n",
       "mean      6.630123    44.226629     0.546742     0.432483     0.671388   \n",
       "std       1.399679    10.098364     0.498046     0.495655     0.469930   \n",
       "min       3.000000    34.000000     0.000000     0.000000     0.000000   \n",
       "25%       6.500000    38.000000     0.000000     0.000000     0.000000   \n",
       "50%       6.700000    41.000000     1.000000     0.000000     1.000000   \n",
       "75%       6.800000    45.000000     1.000000     1.000000     1.000000   \n",
       "max       9.500000    90.000000     1.000000     1.000000     1.000000   \n",
       "\n",
       "         Turbidity       Colour  \n",
       "count  1059.000000  1059.000000  \n",
       "mean      0.491029   251.840415  \n",
       "std       0.500156     4.307424  \n",
       "min       0.000000   240.000000  \n",
       "25%       0.000000   250.000000  \n",
       "50%       0.000000   255.000000  \n",
       "75%       1.000000   255.000000  \n",
       "max       1.000000   255.000000  "
      ]
     },
     "execution_count": 5,
     "metadata": {},
     "output_type": "execute_result"
    }
   ],
   "source": [
    "milk_quality.describe()"
   ]
  },
  {
   "cell_type": "markdown",
   "id": "a6ad5cb7",
   "metadata": {},
   "source": [
    "### Проверяваме набора от данни за нулеви стойности"
   ]
  },
  {
   "cell_type": "code",
   "execution_count": 6,
   "id": "36f6d5b4",
   "metadata": {},
   "outputs": [
    {
     "data": {
      "text/html": [
       "<div>\n",
       "<style scoped>\n",
       "    .dataframe tbody tr th:only-of-type {\n",
       "        vertical-align: middle;\n",
       "    }\n",
       "\n",
       "    .dataframe tbody tr th {\n",
       "        vertical-align: top;\n",
       "    }\n",
       "\n",
       "    .dataframe thead th {\n",
       "        text-align: right;\n",
       "    }\n",
       "</style>\n",
       "<table border=\"1\" class=\"dataframe\">\n",
       "  <thead>\n",
       "    <tr style=\"text-align: right;\">\n",
       "      <th></th>\n",
       "      <th>pH</th>\n",
       "      <th>Temprature</th>\n",
       "      <th>Taste</th>\n",
       "      <th>Odor</th>\n",
       "      <th>Fat</th>\n",
       "      <th>Turbidity</th>\n",
       "      <th>Colour</th>\n",
       "      <th>Grade</th>\n",
       "    </tr>\n",
       "  </thead>\n",
       "  <tbody>\n",
       "    <tr>\n",
       "      <th>0</th>\n",
       "      <td>False</td>\n",
       "      <td>False</td>\n",
       "      <td>False</td>\n",
       "      <td>False</td>\n",
       "      <td>False</td>\n",
       "      <td>False</td>\n",
       "      <td>False</td>\n",
       "      <td>False</td>\n",
       "    </tr>\n",
       "    <tr>\n",
       "      <th>1</th>\n",
       "      <td>False</td>\n",
       "      <td>False</td>\n",
       "      <td>False</td>\n",
       "      <td>False</td>\n",
       "      <td>False</td>\n",
       "      <td>False</td>\n",
       "      <td>False</td>\n",
       "      <td>False</td>\n",
       "    </tr>\n",
       "    <tr>\n",
       "      <th>2</th>\n",
       "      <td>False</td>\n",
       "      <td>False</td>\n",
       "      <td>False</td>\n",
       "      <td>False</td>\n",
       "      <td>False</td>\n",
       "      <td>False</td>\n",
       "      <td>False</td>\n",
       "      <td>False</td>\n",
       "    </tr>\n",
       "    <tr>\n",
       "      <th>3</th>\n",
       "      <td>False</td>\n",
       "      <td>False</td>\n",
       "      <td>False</td>\n",
       "      <td>False</td>\n",
       "      <td>False</td>\n",
       "      <td>False</td>\n",
       "      <td>False</td>\n",
       "      <td>False</td>\n",
       "    </tr>\n",
       "    <tr>\n",
       "      <th>4</th>\n",
       "      <td>False</td>\n",
       "      <td>False</td>\n",
       "      <td>False</td>\n",
       "      <td>False</td>\n",
       "      <td>False</td>\n",
       "      <td>False</td>\n",
       "      <td>False</td>\n",
       "      <td>False</td>\n",
       "    </tr>\n",
       "    <tr>\n",
       "      <th>...</th>\n",
       "      <td>...</td>\n",
       "      <td>...</td>\n",
       "      <td>...</td>\n",
       "      <td>...</td>\n",
       "      <td>...</td>\n",
       "      <td>...</td>\n",
       "      <td>...</td>\n",
       "      <td>...</td>\n",
       "    </tr>\n",
       "    <tr>\n",
       "      <th>1054</th>\n",
       "      <td>False</td>\n",
       "      <td>False</td>\n",
       "      <td>False</td>\n",
       "      <td>False</td>\n",
       "      <td>False</td>\n",
       "      <td>False</td>\n",
       "      <td>False</td>\n",
       "      <td>False</td>\n",
       "    </tr>\n",
       "    <tr>\n",
       "      <th>1055</th>\n",
       "      <td>False</td>\n",
       "      <td>False</td>\n",
       "      <td>False</td>\n",
       "      <td>False</td>\n",
       "      <td>False</td>\n",
       "      <td>False</td>\n",
       "      <td>False</td>\n",
       "      <td>False</td>\n",
       "    </tr>\n",
       "    <tr>\n",
       "      <th>1056</th>\n",
       "      <td>False</td>\n",
       "      <td>False</td>\n",
       "      <td>False</td>\n",
       "      <td>False</td>\n",
       "      <td>False</td>\n",
       "      <td>False</td>\n",
       "      <td>False</td>\n",
       "      <td>False</td>\n",
       "    </tr>\n",
       "    <tr>\n",
       "      <th>1057</th>\n",
       "      <td>False</td>\n",
       "      <td>False</td>\n",
       "      <td>False</td>\n",
       "      <td>False</td>\n",
       "      <td>False</td>\n",
       "      <td>False</td>\n",
       "      <td>False</td>\n",
       "      <td>False</td>\n",
       "    </tr>\n",
       "    <tr>\n",
       "      <th>1058</th>\n",
       "      <td>False</td>\n",
       "      <td>False</td>\n",
       "      <td>False</td>\n",
       "      <td>False</td>\n",
       "      <td>False</td>\n",
       "      <td>False</td>\n",
       "      <td>False</td>\n",
       "      <td>False</td>\n",
       "    </tr>\n",
       "  </tbody>\n",
       "</table>\n",
       "<p>1059 rows × 8 columns</p>\n",
       "</div>"
      ],
      "text/plain": [
       "         pH  Temprature  Taste   Odor   Fat   Turbidity  Colour  Grade\n",
       "0     False       False  False  False  False      False   False  False\n",
       "1     False       False  False  False  False      False   False  False\n",
       "2     False       False  False  False  False      False   False  False\n",
       "3     False       False  False  False  False      False   False  False\n",
       "4     False       False  False  False  False      False   False  False\n",
       "...     ...         ...    ...    ...    ...        ...     ...    ...\n",
       "1054  False       False  False  False  False      False   False  False\n",
       "1055  False       False  False  False  False      False   False  False\n",
       "1056  False       False  False  False  False      False   False  False\n",
       "1057  False       False  False  False  False      False   False  False\n",
       "1058  False       False  False  False  False      False   False  False\n",
       "\n",
       "[1059 rows x 8 columns]"
      ]
     },
     "execution_count": 6,
     "metadata": {},
     "output_type": "execute_result"
    }
   ],
   "source": [
    "milk_quality.isnull()"
   ]
  },
  {
   "cell_type": "markdown",
   "id": "7af78ee4",
   "metadata": {},
   "source": [
    "### Ще покажем и методът isnull().sum(), който се използва за преброяване и представяне на броя нулеви стойности във всяка колона."
   ]
  },
  {
   "cell_type": "code",
   "execution_count": 7,
   "id": "53d14f10",
   "metadata": {},
   "outputs": [
    {
     "data": {
      "text/plain": [
       "pH            0\n",
       "Temprature    0\n",
       "Taste         0\n",
       "Odor          0\n",
       "Fat           0\n",
       "Turbidity     0\n",
       "Colour        0\n",
       "Grade         0\n",
       "dtype: int64"
      ]
     },
     "execution_count": 7,
     "metadata": {},
     "output_type": "execute_result"
    }
   ],
   "source": [
    "milk_quality.isnull().sum()"
   ]
  },
  {
   "cell_type": "markdown",
   "id": "27a175b1",
   "metadata": {},
   "source": [
    "### Вижда се, че нямаме липсващи стойности."
   ]
  },
  {
   "cell_type": "markdown",
   "id": "a92ea0b2",
   "metadata": {},
   "source": [
    "## Проверяваме дали са балансирани данните "
   ]
  },
  {
   "cell_type": "code",
   "execution_count": 8,
   "id": "0d6c2122",
   "metadata": {},
   "outputs": [],
   "source": [
    "mq = milk_quality"
   ]
  },
  {
   "cell_type": "code",
   "execution_count": 9,
   "id": "f00188d6",
   "metadata": {},
   "outputs": [
    {
     "data": {
      "text/plain": [
       "Taste\n",
       "1    579\n",
       "0    480\n",
       "Name: count, dtype: int64"
      ]
     },
     "execution_count": 9,
     "metadata": {},
     "output_type": "execute_result"
    }
   ],
   "source": [
    "mq['Taste'].value_counts()"
   ]
  },
  {
   "cell_type": "code",
   "execution_count": 10,
   "id": "48bd8079",
   "metadata": {},
   "outputs": [
    {
     "data": {
      "text/plain": [
       "Odor\n",
       "0    601\n",
       "1    458\n",
       "Name: count, dtype: int64"
      ]
     },
     "execution_count": 10,
     "metadata": {},
     "output_type": "execute_result"
    }
   ],
   "source": [
    "mq['Odor'].value_counts()"
   ]
  },
  {
   "cell_type": "markdown",
   "id": "1d5637d1",
   "metadata": {},
   "source": [
    "### Проверихме колоните \"Вкус\" и \"Мирис\". Сравняваме броя на случаите и установяваме, че и в двете колони нямаме голям дисбаланс, но все пак стойностите се разминават. Виждаме, че в по-голямата част от случаите все пак \"Вкус\" и \"Мирис\" са добри."
   ]
  },
  {
   "cell_type": "markdown",
   "id": "64f282a6",
   "metadata": {},
   "source": [
    "## Проучвателен анализ на данни\n",
    "\n",
    "Нека използваме matplotlib, за да изследваме данните. След това ще създадем хистограма на температурата като този визуален подход ще ни помогне да разберем как разпределението на температурата се вписва в широкия контекст на производствения процес и какви изводи можем да направим за подобряване на производствения стандарт. Температурата на млякото варира в диапазона 34-90 градуса."
   ]
  },
  {
   "cell_type": "code",
   "execution_count": 11,
   "id": "e0f73923",
   "metadata": {},
   "outputs": [
    {
     "data": {
      "image/png": "[encoded data removed]",
      "text/plain": [
       "<Figure size 640x480 with 1 Axes>"
      ]
     },
     "metadata": {},
     "output_type": "display_data"
    }
   ],
   "source": [
    "plt.hist(mq['Temprature'], bins=10, edgecolor='black', alpha=0.7, color='skyblue')\n",
    "plt.title('Temprature distribution:')\n",
    "plt.xlabel('Тemprature')\n",
    "plt.ylabel('Count')\n",
    "plt.show()\n"
   ]
  },
  {
   "cell_type": "markdown",
   "id": "99a1df3d",
   "metadata": {},
   "source": [
    "## От хистограмата виждаме, че температурата на млякото е най вече в диапазона от 34 до 45 градуса. Поддържането на подходящи температурни условия по време на производството, обработката и съхранението на млякото е от основно значение за постигане на високи стандарти за безопасност и качество на продукта."
   ]
  },
  {
   "cell_type": "code",
   "execution_count": 12,
   "id": "46156e51",
   "metadata": {},
   "outputs": [
    {
     "data": {
      "image/png": "[encoded data removed]",
      "text/plain": [
       "<Figure size 640x480 with 1 Axes>"
      ]
     },
     "metadata": {},
     "output_type": "display_data"
    }
   ],
   "source": [
    "plt.hist(mq['Colour'], bins=10, edgecolor='black', alpha=0.7, color='skyblue')\n",
    "plt.title('Colour distribution:')\n",
    "plt.xlabel('Colour')\n",
    "plt.ylabel('Count')\n",
    "plt.show()"
   ]
  },
  {
   "cell_type": "markdown",
   "id": "537d8420",
   "metadata": {},
   "source": [
    "## Тук визуализираме колоната за цвят на млякото. Нейните стойности са от 240, което е леко сивеещо до 255, което е чисто бяло. Най-многобройна е стълбицата за цвят 254-255, което говори добре, но все пак има и приблизително 30 млека с по-тъмен цвят. Цветът на млякото често се определя от съдържанието на кератин и други пигменти в млечната маса. В общия случай, млякото има бял цвят, но този цвят може да варира в зависимост от различни фактори. Естествено мляко от добре поддържани и здрави крави често има по-богат и по-интензивен бял цвят."
   ]
  },
  {
   "cell_type": "markdown",
   "id": "49ba7002",
   "metadata": {},
   "source": [
    "## Ще разгледаме зависимостта между мътността на млякото при различните нива на pH в него\n",
    "Мътността на млякото зависи от няколко фактора - физични, химични и бактериални аспекти. Важно е да се отбележи, че тя не винаги е индикация за проблем. Въпреки това, ако мътността на млякото е необичайна или асоциирана с неприятен вкус или мирис, може да бъде индикация за проблем в качеството на продукта."
   ]
  },
  {
   "cell_type": "code",
   "execution_count": 13,
   "id": "c9c205d7",
   "metadata": {},
   "outputs": [
    {
     "data": {
      "image/png": "[encoded data removed]",
      "text/plain": [
       "<Figure size 640x480 with 1 Axes>"
      ]
     },
     "metadata": {},
     "output_type": "display_data"
    }
   ],
   "source": [
    "turbidity_filter = mq[\"Turbidity\"] == 1\n",
    "no_turbidity_filter = mq[\"Turbidity\"] == 0\n",
    "\n",
    "plt.hist(mq[turbidity_filter][\"pH\"], alpha=0.6, color='pink')\n",
    "plt.hist(mq[no_turbidity_filter][\"pH\"], alpha=0.6, color='lightblue')\n",
    "\n",
    "plt.xlabel('Level of pH')\n",
    "plt.ylabel('Count')\n",
    "plt.title(\"Milk turbididy\")\n",
    "\n",
    "plt.legend(['turbidity_filter',\n",
    "            'no_turbidity_filter'])\n",
    "\n",
    "\n",
    "plt.show()"
   ]
  },
  {
   "cell_type": "markdown",
   "id": "79fc5b7b",
   "metadata": {},
   "source": [
    "## Можем да си извадим извод от хистограмата, че когата pH на млякото е между 6.30 и 6.90 или с други думи е в нормата си по голям брой млека са без мътност."
   ]
  },
  {
   "cell_type": "markdown",
   "id": "e07e9ee3",
   "metadata": {},
   "source": [
    "## Разпределение на вкуса на млякото\n",
    "От значение са фактори като обработка и пастьоризация, стандартизация, здравето и храненето на животните и съхранение на млякото. "
   ]
  },
  {
   "cell_type": "code",
   "execution_count": 14,
   "id": "1c8990c1",
   "metadata": {},
   "outputs": [
    {
     "data": {
      "image/png": "[encoded data removed]",
      "text/plain": [
       "<Figure size 640x480 with 1 Axes>"
      ]
     },
     "metadata": {},
     "output_type": "display_data"
    }
   ],
   "source": [
    "#Групиране на данните по вкусно и безвкусно мляко\n",
    "milk_taste_count = mq.groupby('Taste').size()\n",
    "\n",
    "milk_taste_count.index = ['No taste', 'Taste']\n",
    "\n",
    "#Създаване на кръгова диаграма\n",
    "plt.gca().set_aspect(\"equal\")\n",
    "plt.pie(milk_taste_count, labels = milk_taste_count.index, autopct = \"%.2f%%\")\n",
    "plt.title(\"Milk Taste\")\n",
    "plt.show()"
   ]
  },
  {
   "cell_type": "markdown",
   "id": "6b310491",
   "metadata": {},
   "source": [
    "## От кръговата диаграма виждаме, че млеката, които имат вкус са 54.67%. Въпреки че тези които нямат вкус са по-малкият процент - 45.33%, все пак трябва да се обърне повече внимание в тази област и да се намали \"лошият\" процент."
   ]
  },
  {
   "cell_type": "code",
   "execution_count": 15,
   "id": "d51ed861",
   "metadata": {},
   "outputs": [],
   "source": [
    "mq = mq.drop('Grade', axis=1)"
   ]
  },
  {
   "cell_type": "code",
   "execution_count": 16,
   "id": "f55c4031",
   "metadata": {},
   "outputs": [
    {
     "data": {
      "text/html": [
       "<div>\n",
       "<style scoped>\n",
       "    .dataframe tbody tr th:only-of-type {\n",
       "        vertical-align: middle;\n",
       "    }\n",
       "\n",
       "    .dataframe tbody tr th {\n",
       "        vertical-align: top;\n",
       "    }\n",
       "\n",
       "    .dataframe thead th {\n",
       "        text-align: right;\n",
       "    }\n",
       "</style>\n",
       "<table border=\"1\" class=\"dataframe\">\n",
       "  <thead>\n",
       "    <tr style=\"text-align: right;\">\n",
       "      <th></th>\n",
       "      <th>pH</th>\n",
       "      <th>Temprature</th>\n",
       "      <th>Taste</th>\n",
       "      <th>Odor</th>\n",
       "      <th>Fat</th>\n",
       "      <th>Turbidity</th>\n",
       "      <th>Colour</th>\n",
       "    </tr>\n",
       "  </thead>\n",
       "  <tbody>\n",
       "    <tr>\n",
       "      <th>pH</th>\n",
       "      <td>1.000000</td>\n",
       "      <td>0.244684</td>\n",
       "      <td>-0.064053</td>\n",
       "      <td>-0.081331</td>\n",
       "      <td>-0.093429</td>\n",
       "      <td>0.048384</td>\n",
       "      <td>-0.164565</td>\n",
       "    </tr>\n",
       "    <tr>\n",
       "      <th>Temprature</th>\n",
       "      <td>0.244684</td>\n",
       "      <td>1.000000</td>\n",
       "      <td>-0.109792</td>\n",
       "      <td>-0.048870</td>\n",
       "      <td>0.024073</td>\n",
       "      <td>0.185106</td>\n",
       "      <td>-0.008511</td>\n",
       "    </tr>\n",
       "    <tr>\n",
       "      <th>Taste</th>\n",
       "      <td>-0.064053</td>\n",
       "      <td>-0.109792</td>\n",
       "      <td>1.000000</td>\n",
       "      <td>0.017582</td>\n",
       "      <td>0.324149</td>\n",
       "      <td>0.055755</td>\n",
       "      <td>-0.082654</td>\n",
       "    </tr>\n",
       "    <tr>\n",
       "      <th>Odor</th>\n",
       "      <td>-0.081331</td>\n",
       "      <td>-0.048870</td>\n",
       "      <td>0.017582</td>\n",
       "      <td>1.000000</td>\n",
       "      <td>0.314505</td>\n",
       "      <td>0.457935</td>\n",
       "      <td>-0.039361</td>\n",
       "    </tr>\n",
       "    <tr>\n",
       "      <th>Fat</th>\n",
       "      <td>-0.093429</td>\n",
       "      <td>0.024073</td>\n",
       "      <td>0.324149</td>\n",
       "      <td>0.314505</td>\n",
       "      <td>1.000000</td>\n",
       "      <td>0.329264</td>\n",
       "      <td>0.114151</td>\n",
       "    </tr>\n",
       "    <tr>\n",
       "      <th>Turbidity</th>\n",
       "      <td>0.048384</td>\n",
       "      <td>0.185106</td>\n",
       "      <td>0.055755</td>\n",
       "      <td>0.457935</td>\n",
       "      <td>0.329264</td>\n",
       "      <td>1.000000</td>\n",
       "      <td>0.136436</td>\n",
       "    </tr>\n",
       "    <tr>\n",
       "      <th>Colour</th>\n",
       "      <td>-0.164565</td>\n",
       "      <td>-0.008511</td>\n",
       "      <td>-0.082654</td>\n",
       "      <td>-0.039361</td>\n",
       "      <td>0.114151</td>\n",
       "      <td>0.136436</td>\n",
       "      <td>1.000000</td>\n",
       "    </tr>\n",
       "  </tbody>\n",
       "</table>\n",
       "</div>"
      ],
      "text/plain": [
       "                  pH  Temprature     Taste      Odor      Fat   Turbidity  \\\n",
       "pH          1.000000    0.244684 -0.064053 -0.081331 -0.093429   0.048384   \n",
       "Temprature  0.244684    1.000000 -0.109792 -0.048870  0.024073   0.185106   \n",
       "Taste      -0.064053   -0.109792  1.000000  0.017582  0.324149   0.055755   \n",
       "Odor       -0.081331   -0.048870  0.017582  1.000000  0.314505   0.457935   \n",
       "Fat        -0.093429    0.024073  0.324149  0.314505  1.000000   0.329264   \n",
       "Turbidity   0.048384    0.185106  0.055755  0.457935  0.329264   1.000000   \n",
       "Colour     -0.164565   -0.008511 -0.082654 -0.039361  0.114151   0.136436   \n",
       "\n",
       "              Colour  \n",
       "pH         -0.164565  \n",
       "Temprature -0.008511  \n",
       "Taste      -0.082654  \n",
       "Odor       -0.039361  \n",
       "Fat         0.114151  \n",
       "Turbidity   0.136436  \n",
       "Colour      1.000000  "
      ]
     },
     "execution_count": 16,
     "metadata": {},
     "output_type": "execute_result"
    }
   ],
   "source": [
    "mq.corr()"
   ]
  },
  {
   "cell_type": "markdown",
   "id": "7e3d287b",
   "metadata": {},
   "source": [
    "### Най-изразителната връзка е между вкуса и миризмата, където стойността на корелацията е 0.324149, подчертавайки умерено силна положителна връзка. Това може да подчертае, че образуването на вкуса и миризмата са тясно свързани аспекти в измерванията.\n",
    "\n",
    "### Освен това, има слаби отрицателни връзки между pH и вкуса, както и между pH и мазнините, сочейки, че по-ниският pH може да бъде свързан с по-интензивен вкус и по-ниско съдържание на мазнини.\n",
    "\n",
    "### Също така, цветът на продукта се оказва отрицателно корелиран с pH, коетоn говори, че по-ниcкият pH често е асоцииран с по-ярки цветове."
   ]
  },
  {
   "cell_type": "code",
   "execution_count": 17,
   "id": "5e3d367d",
   "metadata": {},
   "outputs": [
    {
     "data": {
      "image/png": "[encoded data removed]",
      "text/plain": [
       "<Figure size 600x600 with 2 Axes>"
      ]
     },
     "metadata": {},
     "output_type": "display_data"
    }
   ],
   "source": [
    "def plot_corr(dataframe, size=6):\n",
    "\n",
    "    corr = dataframe.corr()\n",
    "\n",
    "    fig, ax = plt.subplots(figsize=(size, size))\n",
    "    cax = ax.matshow(corr, cmap='plasma')\n",
    "    plt.xticks(range(len(corr.columns)), corr.columns, rotation=90)\n",
    "    plt.yticks(range(len(corr.columns)), corr.columns)\n",
    "\n",
    "#Добавяне на цветната легенда\n",
    "    plt.colorbar(cax)\n",
    "\n",
    "plot_corr(mq)\n",
    "plt.show()"
   ]
  },
  {
   "cell_type": "markdown",
   "id": "947eb95f",
   "metadata": {},
   "source": [
    "### Предоставената функция plot_corr в Python е предназначена за създаване и показване на топлинна карта на корелационната матрица за даден DataFrame. Тя използва библиотеката Matplotlib за визуализация на данните. Визуализацията включва следните стъпки:\n",
    "1. Изчислява се корелационната матрица чрез метода .corr().\n",
    "2. Създава се фигура с размер, определен от параметъра size.\n",
    "3. Цветовете визуално представят силата и посоката на корелациите.\n",
    "4. Анотациите в топлинната карта представляват стойностите на корелационната матрица.\n",
    "5. Крайният резултат се показва чрез plt.show()."
   ]
  },
  {
   "cell_type": "code",
   "execution_count": 18,
   "id": "5137ddf5",
   "metadata": {},
   "outputs": [
    {
     "data": {
      "text/html": [
       "<style type=\"text/css\">\n",
       "#T_4d5e5_row0_col0, #T_4d5e5_row1_col1, #T_4d5e5_row2_col2, #T_4d5e5_row3_col3, #T_4d5e5_row4_col4, #T_4d5e5_row5_col5, #T_4d5e5_row6_col6 {\n",
       "  background-color: #f0f921;\n",
       "  color: #000000;\n",
       "}\n",
       "#T_4d5e5_row0_col1 {\n",
       "  background-color: #9613a1;\n",
       "  color: #f1f1f1;\n",
       "}\n",
       "#T_4d5e5_row0_col2 {\n",
       "  background-color: #260591;\n",
       "  color: #f1f1f1;\n",
       "}\n",
       "#T_4d5e5_row0_col3, #T_4d5e5_row0_col4, #T_4d5e5_row0_col5, #T_4d5e5_row0_col6, #T_4d5e5_row1_col2, #T_4d5e5_row2_col1, #T_4d5e5_row6_col0 {\n",
       "  background-color: #0d0887;\n",
       "  color: #f1f1f1;\n",
       "}\n",
       "#T_4d5e5_row1_col0 {\n",
       "  background-color: #a11b9b;\n",
       "  color: #f1f1f1;\n",
       "}\n",
       "#T_4d5e5_row1_col3 {\n",
       "  background-color: #20068f;\n",
       "  color: #f1f1f1;\n",
       "}\n",
       "#T_4d5e5_row1_col4, #T_4d5e5_row3_col6 {\n",
       "  background-color: #44039e;\n",
       "  color: #f1f1f1;\n",
       "}\n",
       "#T_4d5e5_row1_col5 {\n",
       "  background-color: #5302a3;\n",
       "  color: #f1f1f1;\n",
       "}\n",
       "#T_4d5e5_row1_col6 {\n",
       "  background-color: #5002a2;\n",
       "  color: #f1f1f1;\n",
       "}\n",
       "#T_4d5e5_row2_col0 {\n",
       "  background-color: #3c049b;\n",
       "  color: #f1f1f1;\n",
       "}\n",
       "#T_4d5e5_row2_col3, #T_4d5e5_row6_col1, #T_4d5e5_row6_col5 {\n",
       "  background-color: #3e049c;\n",
       "  color: #f1f1f1;\n",
       "}\n",
       "#T_4d5e5_row2_col4 {\n",
       "  background-color: #ab2494;\n",
       "  color: #f1f1f1;\n",
       "}\n",
       "#T_4d5e5_row2_col5 {\n",
       "  background-color: #100788;\n",
       "  color: #f1f1f1;\n",
       "}\n",
       "#T_4d5e5_row2_col6, #T_4d5e5_row3_col0 {\n",
       "  background-color: #350498;\n",
       "  color: #f1f1f1;\n",
       "}\n",
       "#T_4d5e5_row3_col1 {\n",
       "  background-color: #2e0595;\n",
       "  color: #f1f1f1;\n",
       "}\n",
       "#T_4d5e5_row3_col2 {\n",
       "  background-color: #48039f;\n",
       "  color: #f1f1f1;\n",
       "}\n",
       "#T_4d5e5_row3_col4 {\n",
       "  background-color: #a82296;\n",
       "  color: #f1f1f1;\n",
       "}\n",
       "#T_4d5e5_row3_col5 {\n",
       "  background-color: #ba3388;\n",
       "  color: #f1f1f1;\n",
       "}\n",
       "#T_4d5e5_row4_col0 {\n",
       "  background-color: #2f0596;\n",
       "  color: #f1f1f1;\n",
       "}\n",
       "#T_4d5e5_row4_col1 {\n",
       "  background-color: #4903a0;\n",
       "  color: #f1f1f1;\n",
       "}\n",
       "#T_4d5e5_row4_col2 {\n",
       "  background-color: #ae2892;\n",
       "  color: #f1f1f1;\n",
       "}\n",
       "#T_4d5e5_row4_col3 {\n",
       "  background-color: #a62098;\n",
       "  color: #f1f1f1;\n",
       "}\n",
       "#T_4d5e5_row4_col5 {\n",
       "  background-color: #8e0ca4;\n",
       "  color: #f1f1f1;\n",
       "}\n",
       "#T_4d5e5_row4_col6 {\n",
       "  background-color: #7a02a8;\n",
       "  color: #f1f1f1;\n",
       "}\n",
       "#T_4d5e5_row5_col0 {\n",
       "  background-color: #6300a7;\n",
       "  color: #f1f1f1;\n",
       "}\n",
       "#T_4d5e5_row5_col1 {\n",
       "  background-color: #8405a7;\n",
       "  color: #f1f1f1;\n",
       "}\n",
       "#T_4d5e5_row5_col2 {\n",
       "  background-color: #5601a4;\n",
       "  color: #f1f1f1;\n",
       "}\n",
       "#T_4d5e5_row5_col3 {\n",
       "  background-color: #cb4679;\n",
       "  color: #f1f1f1;\n",
       "}\n",
       "#T_4d5e5_row5_col4 {\n",
       "  background-color: #ac2694;\n",
       "  color: #f1f1f1;\n",
       "}\n",
       "#T_4d5e5_row5_col6 {\n",
       "  background-color: #8104a7;\n",
       "  color: #f1f1f1;\n",
       "}\n",
       "#T_4d5e5_row6_col2 {\n",
       "  background-color: #1d068e;\n",
       "  color: #f1f1f1;\n",
       "}\n",
       "#T_4d5e5_row6_col3 {\n",
       "  background-color: #240691;\n",
       "  color: #f1f1f1;\n",
       "}\n",
       "#T_4d5e5_row6_col4 {\n",
       "  background-color: #6600a7;\n",
       "  color: #f1f1f1;\n",
       "}\n",
       "</style>\n",
       "<table id=\"T_4d5e5\">\n",
       "  <thead>\n",
       "    <tr>\n",
       "      <th class=\"blank level0\" >&nbsp;</th>\n",
       "      <th id=\"T_4d5e5_level0_col0\" class=\"col_heading level0 col0\" >pH</th>\n",
       "      <th id=\"T_4d5e5_level0_col1\" class=\"col_heading level0 col1\" >Temprature</th>\n",
       "      <th id=\"T_4d5e5_level0_col2\" class=\"col_heading level0 col2\" >Taste</th>\n",
       "      <th id=\"T_4d5e5_level0_col3\" class=\"col_heading level0 col3\" >Odor</th>\n",
       "      <th id=\"T_4d5e5_level0_col4\" class=\"col_heading level0 col4\" >Fat </th>\n",
       "      <th id=\"T_4d5e5_level0_col5\" class=\"col_heading level0 col5\" >Turbidity</th>\n",
       "      <th id=\"T_4d5e5_level0_col6\" class=\"col_heading level0 col6\" >Colour</th>\n",
       "    </tr>\n",
       "  </thead>\n",
       "  <tbody>\n",
       "    <tr>\n",
       "      <th id=\"T_4d5e5_level0_row0\" class=\"row_heading level0 row0\" >pH</th>\n",
       "      <td id=\"T_4d5e5_row0_col0\" class=\"data row0 col0\" >1.000000</td>\n",
       "      <td id=\"T_4d5e5_row0_col1\" class=\"data row0 col1\" >0.244684</td>\n",
       "      <td id=\"T_4d5e5_row0_col2\" class=\"data row0 col2\" >-0.064053</td>\n",
       "      <td id=\"T_4d5e5_row0_col3\" class=\"data row0 col3\" >-0.081331</td>\n",
       "      <td id=\"T_4d5e5_row0_col4\" class=\"data row0 col4\" >-0.093429</td>\n",
       "      <td id=\"T_4d5e5_row0_col5\" class=\"data row0 col5\" >0.048384</td>\n",
       "      <td id=\"T_4d5e5_row0_col6\" class=\"data row0 col6\" >-0.164565</td>\n",
       "    </tr>\n",
       "    <tr>\n",
       "      <th id=\"T_4d5e5_level0_row1\" class=\"row_heading level0 row1\" >Temprature</th>\n",
       "      <td id=\"T_4d5e5_row1_col0\" class=\"data row1 col0\" >0.244684</td>\n",
       "      <td id=\"T_4d5e5_row1_col1\" class=\"data row1 col1\" >1.000000</td>\n",
       "      <td id=\"T_4d5e5_row1_col2\" class=\"data row1 col2\" >-0.109792</td>\n",
       "      <td id=\"T_4d5e5_row1_col3\" class=\"data row1 col3\" >-0.048870</td>\n",
       "      <td id=\"T_4d5e5_row1_col4\" class=\"data row1 col4\" >0.024073</td>\n",
       "      <td id=\"T_4d5e5_row1_col5\" class=\"data row1 col5\" >0.185106</td>\n",
       "      <td id=\"T_4d5e5_row1_col6\" class=\"data row1 col6\" >-0.008511</td>\n",
       "    </tr>\n",
       "    <tr>\n",
       "      <th id=\"T_4d5e5_level0_row2\" class=\"row_heading level0 row2\" >Taste</th>\n",
       "      <td id=\"T_4d5e5_row2_col0\" class=\"data row2 col0\" >-0.064053</td>\n",
       "      <td id=\"T_4d5e5_row2_col1\" class=\"data row2 col1\" >-0.109792</td>\n",
       "      <td id=\"T_4d5e5_row2_col2\" class=\"data row2 col2\" >1.000000</td>\n",
       "      <td id=\"T_4d5e5_row2_col3\" class=\"data row2 col3\" >0.017582</td>\n",
       "      <td id=\"T_4d5e5_row2_col4\" class=\"data row2 col4\" >0.324149</td>\n",
       "      <td id=\"T_4d5e5_row2_col5\" class=\"data row2 col5\" >0.055755</td>\n",
       "      <td id=\"T_4d5e5_row2_col6\" class=\"data row2 col6\" >-0.082654</td>\n",
       "    </tr>\n",
       "    <tr>\n",
       "      <th id=\"T_4d5e5_level0_row3\" class=\"row_heading level0 row3\" >Odor</th>\n",
       "      <td id=\"T_4d5e5_row3_col0\" class=\"data row3 col0\" >-0.081331</td>\n",
       "      <td id=\"T_4d5e5_row3_col1\" class=\"data row3 col1\" >-0.048870</td>\n",
       "      <td id=\"T_4d5e5_row3_col2\" class=\"data row3 col2\" >0.017582</td>\n",
       "      <td id=\"T_4d5e5_row3_col3\" class=\"data row3 col3\" >1.000000</td>\n",
       "      <td id=\"T_4d5e5_row3_col4\" class=\"data row3 col4\" >0.314505</td>\n",
       "      <td id=\"T_4d5e5_row3_col5\" class=\"data row3 col5\" >0.457935</td>\n",
       "      <td id=\"T_4d5e5_row3_col6\" class=\"data row3 col6\" >-0.039361</td>\n",
       "    </tr>\n",
       "    <tr>\n",
       "      <th id=\"T_4d5e5_level0_row4\" class=\"row_heading level0 row4\" >Fat </th>\n",
       "      <td id=\"T_4d5e5_row4_col0\" class=\"data row4 col0\" >-0.093429</td>\n",
       "      <td id=\"T_4d5e5_row4_col1\" class=\"data row4 col1\" >0.024073</td>\n",
       "      <td id=\"T_4d5e5_row4_col2\" class=\"data row4 col2\" >0.324149</td>\n",
       "      <td id=\"T_4d5e5_row4_col3\" class=\"data row4 col3\" >0.314505</td>\n",
       "      <td id=\"T_4d5e5_row4_col4\" class=\"data row4 col4\" >1.000000</td>\n",
       "      <td id=\"T_4d5e5_row4_col5\" class=\"data row4 col5\" >0.329264</td>\n",
       "      <td id=\"T_4d5e5_row4_col6\" class=\"data row4 col6\" >0.114151</td>\n",
       "    </tr>\n",
       "    <tr>\n",
       "      <th id=\"T_4d5e5_level0_row5\" class=\"row_heading level0 row5\" >Turbidity</th>\n",
       "      <td id=\"T_4d5e5_row5_col0\" class=\"data row5 col0\" >0.048384</td>\n",
       "      <td id=\"T_4d5e5_row5_col1\" class=\"data row5 col1\" >0.185106</td>\n",
       "      <td id=\"T_4d5e5_row5_col2\" class=\"data row5 col2\" >0.055755</td>\n",
       "      <td id=\"T_4d5e5_row5_col3\" class=\"data row5 col3\" >0.457935</td>\n",
       "      <td id=\"T_4d5e5_row5_col4\" class=\"data row5 col4\" >0.329264</td>\n",
       "      <td id=\"T_4d5e5_row5_col5\" class=\"data row5 col5\" >1.000000</td>\n",
       "      <td id=\"T_4d5e5_row5_col6\" class=\"data row5 col6\" >0.136436</td>\n",
       "    </tr>\n",
       "    <tr>\n",
       "      <th id=\"T_4d5e5_level0_row6\" class=\"row_heading level0 row6\" >Colour</th>\n",
       "      <td id=\"T_4d5e5_row6_col0\" class=\"data row6 col0\" >-0.164565</td>\n",
       "      <td id=\"T_4d5e5_row6_col1\" class=\"data row6 col1\" >-0.008511</td>\n",
       "      <td id=\"T_4d5e5_row6_col2\" class=\"data row6 col2\" >-0.082654</td>\n",
       "      <td id=\"T_4d5e5_row6_col3\" class=\"data row6 col3\" >-0.039361</td>\n",
       "      <td id=\"T_4d5e5_row6_col4\" class=\"data row6 col4\" >0.114151</td>\n",
       "      <td id=\"T_4d5e5_row6_col5\" class=\"data row6 col5\" >0.136436</td>\n",
       "      <td id=\"T_4d5e5_row6_col6\" class=\"data row6 col6\" >1.000000</td>\n",
       "    </tr>\n",
       "  </tbody>\n",
       "</table>\n"
      ],
      "text/plain": [
       "<pandas.io.formats.style.Styler at 0xcb55035cd0>"
      ]
     },
     "execution_count": 18,
     "metadata": {},
     "output_type": "execute_result"
    }
   ],
   "source": [
    "# Втори начин за начертаване на корелационна матрица\n",
    "corr = mq.corr()\n",
    "corr.style.background_gradient(cmap = 'plasma')"
   ]
  },
  {
   "cell_type": "code",
   "execution_count": 19,
   "id": "4d8d47d5",
   "metadata": {},
   "outputs": [],
   "source": [
    "#Изчисляване на корелациите\n",
    "correlations = mq.corr()\n",
    "\n",
    "#Намиране на индексите на силно корелираните колони\n",
    "highly_correlated = set()\n",
    "for i in range(len(correlations.columns)):\n",
    "    for j in range(i):\n",
    "        if abs(correlations.iloc[i, j]) > 0.8:\n",
    "            colname = correlations.columns[i]\n",
    "            highly_correlated.add(colname)\n",
    "\n",
    "#Премахване на силно корелираните колони от DataFrame\n",
    "mq_filtered = mq.drop(columns=highly_correlated)"
   ]
  },
  {
   "cell_type": "code",
   "execution_count": 20,
   "id": "d6c2a23b",
   "metadata": {},
   "outputs": [
    {
     "data": {
      "text/html": [
       "<div>\n",
       "<style scoped>\n",
       "    .dataframe tbody tr th:only-of-type {\n",
       "        vertical-align: middle;\n",
       "    }\n",
       "\n",
       "    .dataframe tbody tr th {\n",
       "        vertical-align: top;\n",
       "    }\n",
       "\n",
       "    .dataframe thead th {\n",
       "        text-align: right;\n",
       "    }\n",
       "</style>\n",
       "<table border=\"1\" class=\"dataframe\">\n",
       "  <thead>\n",
       "    <tr style=\"text-align: right;\">\n",
       "      <th></th>\n",
       "      <th>pH</th>\n",
       "      <th>Temprature</th>\n",
       "      <th>Taste</th>\n",
       "      <th>Odor</th>\n",
       "      <th>Fat</th>\n",
       "      <th>Turbidity</th>\n",
       "      <th>Colour</th>\n",
       "    </tr>\n",
       "  </thead>\n",
       "  <tbody>\n",
       "    <tr>\n",
       "      <th>0</th>\n",
       "      <td>6.6</td>\n",
       "      <td>35</td>\n",
       "      <td>1</td>\n",
       "      <td>0</td>\n",
       "      <td>1</td>\n",
       "      <td>0</td>\n",
       "      <td>254</td>\n",
       "    </tr>\n",
       "    <tr>\n",
       "      <th>1</th>\n",
       "      <td>6.6</td>\n",
       "      <td>36</td>\n",
       "      <td>0</td>\n",
       "      <td>1</td>\n",
       "      <td>0</td>\n",
       "      <td>1</td>\n",
       "      <td>253</td>\n",
       "    </tr>\n",
       "    <tr>\n",
       "      <th>2</th>\n",
       "      <td>8.5</td>\n",
       "      <td>70</td>\n",
       "      <td>1</td>\n",
       "      <td>1</td>\n",
       "      <td>1</td>\n",
       "      <td>1</td>\n",
       "      <td>246</td>\n",
       "    </tr>\n",
       "    <tr>\n",
       "      <th>3</th>\n",
       "      <td>9.5</td>\n",
       "      <td>34</td>\n",
       "      <td>1</td>\n",
       "      <td>1</td>\n",
       "      <td>0</td>\n",
       "      <td>1</td>\n",
       "      <td>255</td>\n",
       "    </tr>\n",
       "    <tr>\n",
       "      <th>4</th>\n",
       "      <td>6.6</td>\n",
       "      <td>37</td>\n",
       "      <td>0</td>\n",
       "      <td>0</td>\n",
       "      <td>0</td>\n",
       "      <td>0</td>\n",
       "      <td>255</td>\n",
       "    </tr>\n",
       "  </tbody>\n",
       "</table>\n",
       "</div>"
      ],
      "text/plain": [
       "    pH  Temprature  Taste  Odor  Fat   Turbidity  Colour\n",
       "0  6.6          35      1     0     1          0     254\n",
       "1  6.6          36      0     1     0          1     253\n",
       "2  8.5          70      1     1     1          1     246\n",
       "3  9.5          34      1     1     0          1     255\n",
       "4  6.6          37      0     0     0          0     255"
      ]
     },
     "execution_count": 20,
     "metadata": {},
     "output_type": "execute_result"
    }
   ],
   "source": [
    "mq_filtered.head()"
   ]
  },
  {
   "cell_type": "code",
   "execution_count": 21,
   "id": "1fc06e72",
   "metadata": {},
   "outputs": [
    {
     "data": {
      "text/plain": [
       "array([1, 0], dtype=int64)"
      ]
     },
     "execution_count": 21,
     "metadata": {},
     "output_type": "execute_result"
    }
   ],
   "source": [
    "mq_filtered['Taste'].unique()"
   ]
  },
  {
   "cell_type": "code",
   "execution_count": 22,
   "id": "cbf9478a",
   "metadata": {},
   "outputs": [
    {
     "data": {
      "text/plain": [
       "pH            float64\n",
       "Temprature      int64\n",
       "Taste           int64\n",
       "Odor            int64\n",
       "Fat             int64\n",
       "Turbidity       int64\n",
       "Colour          int64\n",
       "dtype: object"
      ]
     },
     "execution_count": 22,
     "metadata": {},
     "output_type": "execute_result"
    }
   ],
   "source": [
    "mq_filtered.dtypes"
   ]
  },
  {
   "cell_type": "markdown",
   "id": "fcc52ec1",
   "metadata": {},
   "source": [
    "#### Използваме \".dtypes\" атрибута, за получаване на типовете данни на всяка колона от нашия поток от данни."
   ]
  },
  {
   "cell_type": "code",
   "execution_count": 23,
   "id": "fd179791",
   "metadata": {},
   "outputs": [
    {
     "name": "stdout",
     "output_type": "stream",
     "text": [
      "0.546742209631728\n"
     ]
    }
   ],
   "source": [
    "tasty = mq['Taste'].mean()\n",
    "print(tasty)"
   ]
  },
  {
   "cell_type": "markdown",
   "id": "fe3a89df",
   "metadata": {},
   "source": [
    "#### Mетодът \".mean()\" използваме, за да изчислим средната стойност на колоната \"Вкус\". Получаваме стойност, по-близка до единица, което се застъпва с горе показаната кръгова диаграма за вкусно и безвкусно мляко. Правим извод, че по-голяма част от млеката все пак имат вкус. "
   ]
  },
  {
   "cell_type": "code",
   "execution_count": 24,
   "id": "1e7bb836",
   "metadata": {},
   "outputs": [],
   "source": [
    "Y = mq_filtered['Taste']"
   ]
  },
  {
   "cell_type": "markdown",
   "id": "96a1915a",
   "metadata": {},
   "source": [
    "#### Присвояваме колоната \"Вкус\" на променливата Y"
   ]
  },
  {
   "cell_type": "code",
   "execution_count": 25,
   "id": "768ec9a5",
   "metadata": {},
   "outputs": [],
   "source": [
    "scaler = StandardScaler()\n",
    "\n",
    "X = mq_filtered.drop('Taste',axis=1)\n",
    "\n",
    "scaler.fit(X)\n",
    "X_standard = scaler.transform(X)"
   ]
  },
  {
   "cell_type": "markdown",
   "id": "6cfe132e",
   "metadata": {},
   "source": [
    "#### \"StandardScaler\" се използва за стандартизиране на функции чрез премахване на средната стойност и мащабиране до дисперсия на единица. Това е съществена стъпка на предварителна обработка в много алгоритми за машинно обучение, особено тези, които са чувствителни към мащаба на входните характеристики."
   ]
  },
  {
   "cell_type": "code",
   "execution_count": 26,
   "id": "2da74b10",
   "metadata": {},
   "outputs": [],
   "source": [
    "X_train, X_test, Y_train, Y_test = train_test_split(X_standard,Y,test_size=.2,random_state=123)"
   ]
  },
  {
   "cell_type": "markdown",
   "id": "edf59e90",
   "metadata": {},
   "source": [
    "#### Функцията \"train_test_split\" е често използвана помощна програма от библиотеката scikit-learn. Използваме я, за да разделим набора от данни на набори за обучение и тестване за оценка на модела. Това е от решаващо значение, за да се оцени колко добре моделът на машинно обучение се обобщава към нови, невиждани данни."
   ]
  },
  {
   "cell_type": "code",
   "execution_count": 27,
   "id": "1c702e41",
   "metadata": {},
   "outputs": [
    {
     "data": {
      "text/plain": [
       "array([[ 0.12142606, -0.31967094, -0.87296233,  0.69960809, -0.98221664,\n",
       "         0.73386719],\n",
       "       [ 1.40804285,  1.06734732,  1.1455248 ,  0.69960809,  1.01810533,\n",
       "         0.73386719],\n",
       "       [-0.09301007, -0.71596188, -0.87296233, -1.4293717 , -0.98221664,\n",
       "        -1.58880273],\n",
       "       ...,\n",
       "       [ 2.05135125, -1.01318008,  1.1455248 , -1.4293717 ,  1.01810533,\n",
       "         0.73386719],\n",
       "       [ 0.55029833,  4.53489299, -0.87296233,  0.69960809,  1.01810533,\n",
       "         0.73386719],\n",
       "       [-0.02153136, -0.41874368, -0.87296233, -1.4293717 , -0.98221664,\n",
       "         0.73386719]])"
      ]
     },
     "execution_count": 27,
     "metadata": {},
     "output_type": "execute_result"
    }
   ],
   "source": [
    "X_train"
   ]
  },
  {
   "cell_type": "markdown",
   "id": "9bc6b3b8",
   "metadata": {},
   "source": [
    "#### \"X_train\" съдържа функциите на набора."
   ]
  },
  {
   "cell_type": "code",
   "execution_count": 28,
   "id": "6a32aa1c",
   "metadata": {},
   "outputs": [
    {
     "data": {
      "text/plain": [
       "652     0\n",
       "764     0\n",
       "499     0\n",
       "229     0\n",
       "182     1\n",
       "       ..\n",
       "638     1\n",
       "113     0\n",
       "96      1\n",
       "106     1\n",
       "1041    1\n",
       "Name: Taste, Length: 847, dtype: int64"
      ]
     },
     "execution_count": 28,
     "metadata": {},
     "output_type": "execute_result"
    }
   ],
   "source": [
    "Y_train"
   ]
  },
  {
   "cell_type": "markdown",
   "id": "2f4a1309",
   "metadata": {},
   "source": [
    "#### \"Y_train\" съдържа съответните етикети за набора."
   ]
  },
  {
   "cell_type": "code",
   "execution_count": 29,
   "id": "3610f575",
   "metadata": {},
   "outputs": [
    {
     "data": {
      "text/html": [
       "<style>#sk-container-id-1 {color: black;}#sk-container-id-1 pre{padding: 0;}#sk-container-id-1 div.sk-toggleable {background-color: white;}#sk-container-id-1 label.sk-toggleable__label {cursor: pointer;display: block;width: 100%;margin-bottom: 0;padding: 0.3em;box-sizing: border-box;text-align: center;}#sk-container-id-1 label.sk-toggleable__label-arrow:before {content: \"▸\";float: left;margin-right: 0.25em;color: #696969;}#sk-container-id-1 label.sk-toggleable__label-arrow:hover:before {color: black;}#sk-container-id-1 div.sk-estimator:hover label.sk-toggleable__label-arrow:before {color: black;}#sk-container-id-1 div.sk-toggleable__content {max-height: 0;max-width: 0;overflow: hidden;text-align: left;background-color: #f0f8ff;}#sk-container-id-1 div.sk-toggleable__content pre {margin: 0.2em;color: black;border-radius: 0.25em;background-color: #f0f8ff;}#sk-container-id-1 input.sk-toggleable__control:checked~div.sk-toggleable__content {max-height: 200px;max-width: 100%;overflow: auto;}#sk-container-id-1 input.sk-toggleable__control:checked~label.sk-toggleable__label-arrow:before {content: \"▾\";}#sk-container-id-1 div.sk-estimator input.sk-toggleable__control:checked~label.sk-toggleable__label {background-color: #d4ebff;}#sk-container-id-1 div.sk-label input.sk-toggleable__control:checked~label.sk-toggleable__label {background-color: #d4ebff;}#sk-container-id-1 input.sk-hidden--visually {border: 0;clip: rect(1px 1px 1px 1px);clip: rect(1px, 1px, 1px, 1px);height: 1px;margin: -1px;overflow: hidden;padding: 0;position: absolute;width: 1px;}#sk-container-id-1 div.sk-estimator {font-family: monospace;background-color: #f0f8ff;border: 1px dotted black;border-radius: 0.25em;box-sizing: border-box;margin-bottom: 0.5em;}#sk-container-id-1 div.sk-estimator:hover {background-color: #d4ebff;}#sk-container-id-1 div.sk-parallel-item::after {content: \"\";width: 100%;border-bottom: 1px solid gray;flex-grow: 1;}#sk-container-id-1 div.sk-label:hover label.sk-toggleable__label {background-color: #d4ebff;}#sk-container-id-1 div.sk-serial::before {content: \"\";position: absolute;border-left: 1px solid gray;box-sizing: border-box;top: 0;bottom: 0;left: 50%;z-index: 0;}#sk-container-id-1 div.sk-serial {display: flex;flex-direction: column;align-items: center;background-color: white;padding-right: 0.2em;padding-left: 0.2em;position: relative;}#sk-container-id-1 div.sk-item {position: relative;z-index: 1;}#sk-container-id-1 div.sk-parallel {display: flex;align-items: stretch;justify-content: center;background-color: white;position: relative;}#sk-container-id-1 div.sk-item::before, #sk-container-id-1 div.sk-parallel-item::before {content: \"\";position: absolute;border-left: 1px solid gray;box-sizing: border-box;top: 0;bottom: 0;left: 50%;z-index: -1;}#sk-container-id-1 div.sk-parallel-item {display: flex;flex-direction: column;z-index: 1;position: relative;background-color: white;}#sk-container-id-1 div.sk-parallel-item:first-child::after {align-self: flex-end;width: 50%;}#sk-container-id-1 div.sk-parallel-item:last-child::after {align-self: flex-start;width: 50%;}#sk-container-id-1 div.sk-parallel-item:only-child::after {width: 0;}#sk-container-id-1 div.sk-dashed-wrapped {border: 1px dashed gray;margin: 0 0.4em 0.5em 0.4em;box-sizing: border-box;padding-bottom: 0.4em;background-color: white;}#sk-container-id-1 div.sk-label label {font-family: monospace;font-weight: bold;display: inline-block;line-height: 1.2em;}#sk-container-id-1 div.sk-label-container {text-align: center;}#sk-container-id-1 div.sk-container {/* jupyter's `normalize.less` sets `[hidden] { display: none; }` but bootstrap.min.css set `[hidden] { display: none !important; }` so we also need the `!important` here to be able to override the default hidden behavior on the sphinx rendered scikit-learn.org. See: https://github.com/scikit-learn/scikit-learn/issues/21755 */display: inline-block !important;position: relative;}#sk-container-id-1 div.sk-text-repr-fallback {display: none;}</style><div id=\"sk-container-id-1\" class=\"sk-top-container\"><div class=\"sk-text-repr-fallback\"><pre>LogisticRegression(random_state=16)</pre><b>In a Jupyter environment, please rerun this cell to show the HTML representation or trust the notebook. <br />On GitHub, the HTML representation is unable to render, please try loading this page with nbviewer.org.</b></div><div class=\"sk-container\" hidden><div class=\"sk-item\"><div class=\"sk-estimator sk-toggleable\"><input class=\"sk-toggleable__control sk-hidden--visually\" id=\"sk-estimator-id-1\" type=\"checkbox\" checked><label for=\"sk-estimator-id-1\" class=\"sk-toggleable__label sk-toggleable__label-arrow\">LogisticRegression</label><div class=\"sk-toggleable__content\"><pre>LogisticRegression(random_state=16)</pre></div></div></div></div></div>"
      ],
      "text/plain": [
       "LogisticRegression(random_state=16)"
      ]
     },
     "execution_count": 29,
     "metadata": {},
     "output_type": "execute_result"
    }
   ],
   "source": [
    "regresor = LogisticRegression(random_state=16)\n",
    "regresor.fit(X_train, Y_train)"
   ]
  },
  {
   "cell_type": "markdown",
   "id": "77511d97",
   "metadata": {},
   "source": [
    "#### Инициализиране и обучение на модела на логистична регресия"
   ]
  },
  {
   "cell_type": "code",
   "execution_count": 30,
   "id": "f8dbf059",
   "metadata": {},
   "outputs": [
    {
     "name": "stdout",
     "output_type": "stream",
     "text": [
      "Logistic Regression model accuracy (in %): 66.98113207547169\n"
     ]
    }
   ],
   "source": [
    "y_pred = regresor.predict(X_test)\n",
    " \n",
    "accuracy = accuracy_score(Y_test, y_pred)\n",
    "print(\"Logistic Regression model accuracy (in %):\", accuracy*100)"
   ]
  },
  {
   "cell_type": "markdown",
   "id": "c1f6f7eb",
   "metadata": {},
   "source": [
    "#### Използвайте модела, за да направим прогнози за нови данни и да оценим ефективността му върху тестовия набор"
   ]
  },
  {
   "cell_type": "markdown",
   "id": "b8241efb",
   "metadata": {},
   "source": [
    "# Заключение"
   ]
  },
  {
   "cell_type": "markdown",
   "id": "b9be9eb9",
   "metadata": {},
   "source": [
    "### Анализът на различните характеристики на млякото подчертава комплексността на влиянието им върху качеството на продукта. По-нататъшни изследвания и подобрения в производствените процеси могат да се фокусират върху оптимизирането на тези взаимодействия, с цел постигане на по-добри характеристики и удовлетворение на потребителите. Обобщавайки, разбирането на връзките между различните параметри може да бъде от съществено значение за подобряване на качеството на млякото и адаптиране на производствените практики.\n",
    "\n",
    "\n",
    "\n",
    "\n",
    "\n"
   ]
  }
 ],
 "metadata": {
  "kernelspec": {
   "display_name": "Python 3 (ipykernel)",
   "language": "python",
   "name": "python3"
  },
  "language_info": {
   "codemirror_mode": {
    "name": "ipython",
    "version": 3
   },
   "file_extension": ".py",
   "mimetype": "text/x-python",
   "name": "python",
   "nbconvert_exporter": "python",
   "pygments_lexer": "ipython3",
   "version": "3.11.5"
  }
 },
 "nbformat": 4,
 "nbformat_minor": 5
}
